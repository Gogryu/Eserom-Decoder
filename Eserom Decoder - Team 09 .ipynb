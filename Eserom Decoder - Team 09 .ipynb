{
 "cells": [
  {
   "cell_type": "code",
   "execution_count": 7,
   "id": "bd168fb3",
   "metadata": {},
   "outputs": [],
   "source": [
    "m_dict = {\"10\":\"A\", \"0111\":\"B\", \"0101\":\"C\", \"011\":\"D\", \"1\":\"E\",\n",
    "          \"1101\":\"F\", \"001\":\"G\", \"1111\":\"H\", \"11\":\"I\", \"1000\":\"J\",\n",
    "         \"010\":\"K\", \"1011\":\"L\", \"00\":\"M\", \"01\":\"N\", \"000\":\"O\", \n",
    "         \"1001\":\"P\", \"0010\":\"Q\", \"101\":\"R\", \"111\":\"S\", \"0\":\"T\",\n",
    "         \"110\":\"U\", \"1110\":\"V\", \"100\":\"W\", \"0110\":\"X\", \"0100\":\"Y\",\n",
    "         \"0011\":\"Z\", \"10000\":\"1\", \"11000\":\"2\", \"11000\":\"2\", \"11100\":\"3\",\n",
    "         \"11110\":\"4\", \"11111\":\"5\", \"01111\":\"6\", \"11000\":\"7\", \"00011\":\"8\",\n",
    "         \"00001\":\"9\", \"00000\":\"0\", \" \":\" \"}"
   ]
  },
  {
   "cell_type": "code",
   "execution_count": 8,
   "id": "65209d59",
   "metadata": {},
   "outputs": [
    {
     "name": "stdout",
     "output_type": "stream",
     "text": [
      "W4t izzz Ur m0r53 c0d3?11  10 00  111 10 00\n",
      "11  10 00  111 10 00\n"
     ]
    },
    {
     "data": {
      "text/plain": [
       "'I AM SAM'"
      ]
     },
     "execution_count": 8,
     "metadata": {},
     "output_type": "execute_result"
    }
   ],
   "source": [
    "def morse_translator(x):\n",
    "    x = str(x)\n",
    "    print(x)\n",
    "    y = x.split()\n",
    "    morse = []\n",
    "    space_double_count = 0\n",
    "    space_single_count = 0\n",
    "    space_array = []\n",
    "    for i in range(len(x)-2):\n",
    "        if x[i] == \" \" and x[i+1] == \" \":\n",
    "            \n",
    "            index = space_single_count\n",
    "            space_single_count += 1\n",
    "            space_array.append(index)\n",
    "            # check for double space\n",
    "        elif x[i] == \" \":\n",
    "            space_single_count += 1\n",
    "            # 5 words have 4 spaces \n",
    "    for elt in y:\n",
    "        morse_translated = m_dict[str(elt)]\n",
    "        morse.append(morse_translated)\n",
    "    for spaces in space_array:\n",
    "        morse.insert(spaces + 1, \" \")\n",
    "    return (''.join(morse))\n",
    "x = input(\"W4t izzz Ur m0r53 c0d3?\")\n",
    "morse_translator(x)\n",
    "# 1111 1 1011 1011 000  100 000 101 1011 011 (HELLO WORLD)\n",
    "# 11  10 00  111 10 00"
   ]
  },
  {
   "cell_type": "code",
   "execution_count": null,
   "id": "c6529001",
   "metadata": {},
   "outputs": [],
   "source": []
  }
 ],
 "metadata": {
  "kernelspec": {
   "display_name": "Python 3 (ipykernel)",
   "language": "python",
   "name": "python3"
  },
  "language_info": {
   "codemirror_mode": {
    "name": "ipython",
    "version": 3
   },
   "file_extension": ".py",
   "mimetype": "text/x-python",
   "name": "python",
   "nbconvert_exporter": "python",
   "pygments_lexer": "ipython3",
   "version": "3.9.13"
  }
 },
 "nbformat": 4,
 "nbformat_minor": 5
}
